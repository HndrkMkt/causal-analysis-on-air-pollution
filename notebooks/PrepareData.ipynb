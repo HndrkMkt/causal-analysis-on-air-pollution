{
 "cells": [
  {
   "cell_type": "code",
   "execution_count": null,
   "metadata": {},
   "outputs": [],
   "source": [
    "import numpy as np\n",
    "import pandas as pd\n",
    "import tigramite\n",
    "from tigramite import data_processing as pp\n",
    "from tigramite import plotting as tp\n",
    "from tigramite.pcmci import PCMCI\n",
    "from tigramite.independence_tests import ParCorr, GPDC, CMIknn, CMIsymb\n",
    "import time"
   ]
  },
  {
   "cell_type": "code",
   "execution_count": null,
   "metadata": {},
   "outputs": [],
   "source": [
    "def load_data():\n",
    "    sensor_data = pd.read_csv(\"../data/processed/causalDiscoveryData.csv\", sep=\";\", names=[\n",
    "        \"location\", \"lat\", \"lon\", \"timestamp\", \"dayOfYear\", \"minuteOfDay\", \"dayOfWeek\", \"isWeekend\", \"pressure\", \"altitude\", \"pressure_sealevel\", \"temperature\",\n",
    "        \"humidity\", \"p1\", \"p2\", \"p0\", \"durP1\", \"ratioP1\", \"durP2\", \"ratioP2\",\n",
    "        \"apparent_temperature\", \"cloud_cover\", \"dew_point\", \"humidity\", \"ozone\", \"precip_intensity\", \"precip_probability\",\n",
    "        \"precip_type\", \"pressure\", \"uv_index\", \"visibility\", \"wind_bearing\", \"wind_gust\", \"wind_speed\"], true_values=[\"true\"], false_values=[\"false\"])\n",
    "\n",
    "    sensor_data[\"timestamp\"] = pd.to_datetime(sensor_data[\"timestamp\"])\n",
    "    sensor_data[\"isWeekend\"] = sensor_data[\"isWeekend\"].astype(int)\n",
    "\n",
    "    sensor_data = sensor_data.sort_values(by=[\"location\", \"timestamp\"])\n",
    "    return sensor_data"
   ]
  },
  {
   "cell_type": "code",
   "execution_count": null,
   "metadata": {},
   "outputs": [],
   "source": [
    "def extract_dataset(sensor_data):\n",
    "    sensor_data = sensor_data[[\"location\", \"lat\", \"lon\", \"timestamp\", \"dayOfYear\", \"minuteOfDay\", \"dayOfWeek\", \"isWeekend\", \"temperature\",\n",
    "        \"humidity\", \"p1\", \"p2\", \"apparent_temperature\", \"cloud_cover\", \"dew_point\", \"humidity\", \"precip_intensity\", \"precip_probability\",\n",
    "        \"visibility\", \"wind_bearing\", \"wind_gust\", \"wind_speed\"]]\n",
    "    sensor716 = sensor_data[sensor_data[\"location\"] == 716]\n",
    "    sensor716.loc[sensor716[\"wind_gust\"].isna(), \"wind_gust\"] = sensor716[sensor716[\"wind_gust\"].isna()][\"wind_speed\"] \n",
    "    sensor716.loc[sensor716[\"wind_bearing\"].isna(), \"wind_bearing\"] = 0.\n",
    "    sensor716.loc[sensor716[\"cloud_cover\"].isna(), \"cloud_cover\"] = 0.\n",
    "    sensor716.loc[sensor716[\"precip_intensity\"].isna(), \"precip_intensity\"] = 0.\n",
    "    sensor716.loc[sensor716[\"precip_probability\"].isna(), \"precip_probability\"] = 0.\n",
    "    sensor716 = sensor716.dropna()\n",
    "    return sensor716"
   ]
  },
  {
   "cell_type": "code",
   "execution_count": null,
   "metadata": {},
   "outputs": [],
   "source": [
    "sensor716 = extract_dataset(sensor_data)"
   ]
  },
  {
   "cell_type": "code",
   "execution_count": null,
   "metadata": {},
   "outputs": [],
   "source": [
    "def var_names():\n",
    "    return [\"dayOfYear\", \"minuteOfDay\", \"dayOfWeek\", \"isWeekend\", \"temperature\",\n",
    "        \"humidity\", \"p1\", \"p2\", \"apparent_temperature\", \"cloud_cover\", \"dew_point\", \"humidity\", \"precip_intensity\", \"precip_probability\",\n",
    "        \"visibility\", \"wind_bearing\", \"wind_gust\", \"wind_speed\"]\n",
    "\n",
    "def create_tigramite_dataframe(dataset):\n",
    "    data = dataset[var_names()]\n",
    "    datatime = dataset[\"timestamp\"]\n",
    "\n",
    "    dataframe = pp.DataFrame(data.values, datatime = datatime.values, var_names=var_names())\n",
    "    return dataframe"
   ]
  },
  {
   "cell_type": "code",
   "execution_count": null,
   "metadata": {},
   "outputs": [],
   "source": [
    "dataframe = create_tigramite_dataframe(extract_dataset(load_data()))"
   ]
  },
  {
   "cell_type": "code",
   "execution_count": null,
   "metadata": {},
   "outputs": [],
   "source": [
    "start = time.time()\n",
    "parcorr = ParCorr(significance='analytic')\n",
    "pcmci = PCMCI(\n",
    "    dataframe=dataframe,\n",
    "    cond_ind_test=parcorr,\n",
    "    verbosity=1)\n",
    "\n",
    "correlations = pcmci.get_lagged_dependencies(tau_max=20)\n",
    "end = time.time()\n",
    "print(round(end - start, 2))"
   ]
  },
  {
   "cell_type": "code",
   "execution_count": null,
   "metadata": {},
   "outputs": [],
   "source": [
    "lag_func_matrix = tp.plot_lagfuncs(val_matrix=correlations, setup_args={'var_names':var_names(), \"figsize\":(50,50), \"x_base\": 20\n",
    "                                                                    })"
   ]
  },
  {
   "cell_type": "code",
   "execution_count": null,
   "metadata": {},
   "outputs": [],
   "source": [
    "pcmci.verbosity = 1\n",
    "results = pcmci.run_pcmci(tau_max=4, pc_alpha=None)"
   ]
  },
  {
   "cell_type": "code",
   "execution_count": null,
   "metadata": {},
   "outputs": [],
   "source": [
    "q_matrix = pcmci.get_corrected_pvalues(p_matrix=results['p_matrix'], fdr_method='fdr_bh')\n",
    "pcmci.print_significant_links(\n",
    "        p_matrix = results['p_matrix'], \n",
    "        q_matrix = q_matrix,\n",
    "        val_matrix = results['val_matrix'],\n",
    "        alpha_level = 0.01)"
   ]
  },
  {
   "cell_type": "code",
   "execution_count": null,
   "metadata": {},
   "outputs": [],
   "source": [
    "link_matrix = pcmci.return_significant_parents(pq_matrix=q_matrix,\n",
    "                        val_matrix=results['val_matrix'], alpha_level=0.01)['link_matrix']"
   ]
  },
  {
   "cell_type": "code",
   "execution_count": null,
   "metadata": {},
   "outputs": [],
   "source": [
    "tp.plot_graph(\n",
    "    val_matrix=results['val_matrix'],\n",
    "    link_matrix=link_matrix,\n",
    "    var_names=var_names,\n",
    "    link_colorbar_label='cross-MCI',\n",
    "    node_colorbar_label='auto-MCI',\n",
    "    )"
   ]
  },
  {
   "cell_type": "code",
   "execution_count": null,
   "metadata": {},
   "outputs": [],
   "source": [
    "# Plot time series graph\n",
    "tp.plot_time_series_graph(\n",
    "    val_matrix=results['val_matrix'],\n",
    "    link_matrix=link_matrix,\n",
    "    var_names=var_names,\n",
    "    link_colorbar_label='MCI',\n",
    "    )"
   ]
  },
  {
   "cell_type": "markdown",
   "metadata": {},
   "source": [
    "## Non-linear"
   ]
  },
  {
   "cell_type": "code",
   "execution_count": null,
   "metadata": {},
   "outputs": [],
   "source": [
    "gpdc = GPDC(significance='analytic', gp_params=None)\n",
    "gpdc.generate_and_save_nulldists(sample_sizes=range(495, 501),\n",
    "    null_dist_filename='dc_nulldists.npz')\n",
    "gpdc.null_dist_filename ='dc_nulldists.npz'\n",
    "pcmci_gpdc = PCMCI(\n",
    "    dataframe=dataframe, \n",
    "    cond_ind_test=gpdc,\n",
    "    verbosity=0)"
   ]
  },
  {
   "cell_type": "code",
   "execution_count": null,
   "metadata": {},
   "outputs": [],
   "source": []
  }
 ],
 "metadata": {
  "kernelspec": {
   "display_name": "causal-air-pollution",
   "language": "python",
   "name": "causal-air-pollution"
  },
  "language_info": {
   "codemirror_mode": {
    "name": "ipython",
    "version": 3
   },
   "file_extension": ".py",
   "mimetype": "text/x-python",
   "name": "python",
   "nbconvert_exporter": "python",
   "pygments_lexer": "ipython3",
   "version": "3.7.3"
  }
 },
 "nbformat": 4,
 "nbformat_minor": 4
}
